{
 "cells": [
  {
   "cell_type": "markdown",
   "metadata": {},
   "source": [
    "# Test embedalign with SentEval \n",
    "\n",
    "This notebook will allow you to test EmbedAlign using SentEval. In particular, this also works on **CPUs** :D\n",
    "\n",
    "* Dependencies:\n",
    "    * Python 3.5 with NumPy/SciPy\n",
    "    * Pytorch \n",
    "    * Tensorflow 1.5.0  (for CPUs or GPUs depending on how you plan to run it)\n",
    "        * For example in MacOS: \n",
    "        ```\n",
    "        pip install https://storage.googleapis.com/tensorflow/mac/cpu/tensorflow-1.5.0-py3-none-any.whl\n",
    "        ```\n",
    "    * scikit-learn>=0.18.0\n",
    "    * dill>=0.2.7.1\n",
    "\n",
    "\n",
    "* Install `dgm4nlp` by following the instructions [here](https://github.com/uva-slpl/dgm4nlp), we highly recommend the use of `virtualenv`.\n",
    "\n",
    "In the same `virtualenv`, do the following:\n",
    "\n",
    "* Clone repo from FAIR github\n",
    "```\n",
    "    git clone https://github.com/facebookresearch/SentEval.git\n",
    "    cd SentEval/\n",
    "```\n",
    "\n",
    "* Install senteval\n",
    "```\n",
    "    python setup.py install\n",
    "```\n",
    "\n",
    "* Download datasets (it takes some time...)\n",
    "    * these are downstream tasks\n",
    "    * new Senteval also has probing tasks (https://github.com/facebookresearch/SentEval/tree/master/data/probing) for evaluating linguistic properties of your embeddings. \n",
    "\n",
    "```\n",
    "    cd data/downstream/\n",
    "    ./get_transfer_data.bash\n",
    "```\n",
    "\n",
    "* Download [pretained embedlaign model](https://surfdrive.surf.nl/files/index.php/s/9M4h5zqmYETSmf3)\n",
    "\n",
    "\n",
    "* The following code evaluates embedalign pretrained embeddings on en-fr Europarl on different NLP downstream tasks.\n",
    "\n"
   ]
  },
  {
   "cell_type": "code",
   "execution_count": 12,
   "metadata": {},
   "outputs": [],
   "source": [
    "from __future__ import absolute_import, division, unicode_literals\n",
    "\n",
    "import sys\n",
    "import numpy as np\n",
    "import logging\n",
    "import sklearn\n",
    "#import data \n",
    "# data.py is part of Senteval and it is used for loading word2vec style files\n",
    "import senteval\n",
    "import tensorflow as tf\n",
    "import logging\n",
    "from collections import defaultdict\n",
    "import dill\n",
    "import dgm4nlp"
   ]
  },
  {
   "cell_type": "code",
   "execution_count": 13,
   "metadata": {},
   "outputs": [],
   "source": [
    "class dotdict(dict):\n",
    "    \"\"\" dot.notation access to dictionary attributes \"\"\"\n",
    "    __getattr__ = dict.get\n",
    "    __setattr__ = dict.__setitem__\n",
    "    __delattr__ = dict.__delitem__\n",
    "\n",
    "class EmbeddingExtractor:\n",
    "    \"\"\"\n",
    "    This will compute a forward pass with the inference model of EmbedAlign and \n",
    "        give you the variational mean for each L1 word in the batch.\n",
    "        \n",
    "    Note that this takes monolingual L1 sentences only (at this point we have a traiend EmbedAlign model\n",
    "        which dispenses with L2 sentences).    \n",
    "        \n",
    "    You don't really want to touch anything in this class.\n",
    "    \"\"\"\n",
    "\n",
    "    def __init__(self, graph_file, ckpt_path, config=None):        \n",
    "        g1 = tf.Graph()\n",
    "        self.meta_graph = graph_file\n",
    "        self.ckpt_path = ckpt_path\n",
    "        \n",
    "        self.softmax_approximation = 'botev-batch' #default\n",
    "        with g1.as_default():\n",
    "            self.sess = tf.Session(config=config, graph=g1)\n",
    "            # load architecture computational graph\n",
    "            self.new_saver = tf.train.import_meta_graph(self.meta_graph)\n",
    "            # restore checkpoint\n",
    "            self.new_saver.restore(self.sess, self.ckpt_path) #tf.train.latest_checkpoint(\n",
    "            self.graph = g1  #tf.get_default_graph()\n",
    "            # retrieve input variable\n",
    "            self.x = self.graph.get_tensor_by_name(\"X:0\")\n",
    "            # retrieve training switch variable (True:trianing, False:Test)\n",
    "            self.training_phase = self.graph.get_tensor_by_name(\"training_phase:0\")\n",
    "            #self.keep_prob = self.graph.get_tensor_by_name(\"keep_prob:0\")\n",
    "\n",
    "    def get_z_embedding_batch(self, x_batch):\n",
    "        \"\"\"\n",
    "        :param x_batch: is np array of shape [batch_size, longest_sentence] containing the unique ids of words\n",
    "        \n",
    "        :returns: [batch_size, longest_sentence, z_dim]        \n",
    "        \"\"\"\n",
    "        # Retrieve embeddings from latent variable Z\n",
    "        # we can sempale several n_samples, default 1\n",
    "        try:\n",
    "            z_mean = self.graph.get_tensor_by_name(\"z:0\")\n",
    "            \n",
    "            feed_dict = {\n",
    "                self.x: x_batch,\n",
    "                self.training_phase: False,\n",
    "                #self.keep_prob: 1.\n",
    "\n",
    "            }\n",
    "            z_rep_values = self.sess.run(z_mean, feed_dict=feed_dict) \n",
    "        except:\n",
    "            raise ValueError('tensor Z not in graph!')\n",
    "        return z_rep_values"
   ]
  },
  {
   "cell_type": "markdown",
   "metadata": {},
   "source": [
    "This is how you interface with SentEval. The only think you need to change are the paths to trained models in the main block at the end."
   ]
  },
  {
   "cell_type": "code",
   "execution_count": 14,
   "metadata": {
    "scrolled": true
   },
   "outputs": [
    {
     "name": "stderr",
     "output_type": "stream",
     "text": [
      "2018-05-25 22:22:52,577 : ***** (Probing) Transfer task : TOPCONSTITUENTS classification *****\n",
      "2018-05-25 22:22:53,921 : Loaded 100000 train - 10000 dev - 10000 test for TopConstituents\n"
     ]
    },
    {
     "name": "stdout",
     "output_type": "stream",
     "text": [
      "INFO:tensorflow:Restoring parameters from /Users/Druv/Documents/Jupiter/ULL/Lab3/ull-practical3-embedalign/model.best.validation.aer.ckpt\n"
     ]
    },
    {
     "name": "stderr",
     "output_type": "stream",
     "text": [
      "2018-05-25 22:22:56,999 : Restoring parameters from /Users/Druv/Documents/Jupiter/ULL/Lab3/ull-practical3-embedalign/model.best.validation.aer.ckpt\n",
      "2018-05-25 22:23:01,436 : Computing embeddings for train/dev/test\n",
      "2018-05-25 22:34:32,931 : Computed embeddings\n",
      "2018-05-25 22:34:32,932 : Training sklearn-LogReg with standard validation..\n",
      "2018-05-25 22:43:45,860 : [('reg:0.25', 26.85), ('reg:0.5', 27.24), ('reg:1', 28.08), ('reg:2', 28.9), ('reg:4', 30.62), ('reg:8', 32.7)]\n",
      "2018-05-25 22:43:45,860 : Validation : best param found is reg = 8 with score             32.7\n",
      "2018-05-25 22:43:45,860 : Evaluating...\n",
      "2018-05-25 22:46:38,822 : \n",
      "Dev acc : 32.7 Test acc : 32.6 for TOPCONSTITUENTS classification\n",
      "\n",
      "2018-05-25 22:46:38,846 : ***** (Probing) Transfer task : BIGRAMSHIFT classification *****\n",
      "2018-05-25 22:46:39,354 : Loaded 100000 train - 10000 dev - 10000 test for BigramShift\n"
     ]
    },
    {
     "name": "stdout",
     "output_type": "stream",
     "text": [
      "INFO:tensorflow:Restoring parameters from /Users/Druv/Documents/Jupiter/ULL/Lab3/ull-practical3-embedalign/model.best.validation.aer.ckpt\n"
     ]
    },
    {
     "name": "stderr",
     "output_type": "stream",
     "text": [
      "2018-05-25 22:46:42,625 : Restoring parameters from /Users/Druv/Documents/Jupiter/ULL/Lab3/ull-practical3-embedalign/model.best.validation.aer.ckpt\n",
      "2018-05-25 22:46:43,280 : Computing embeddings for train/dev/test\n",
      "2018-05-25 23:00:11,033 : Computed embeddings\n",
      "2018-05-25 23:00:11,034 : Training sklearn-LogReg with standard validation..\n",
      "2018-05-25 23:01:09,880 : [('reg:0.25', 50.65), ('reg:0.5', 50.55), ('reg:1', 50.65), ('reg:2', 50.61), ('reg:4', 50.72), ('reg:8', 50.85)]\n",
      "2018-05-25 23:01:09,881 : Validation : best param found is reg = 8 with score             50.85\n",
      "2018-05-25 23:01:09,882 : Evaluating...\n",
      "2018-05-25 23:01:27,990 : \n",
      "Dev acc : 50.9 Test acc : 51.1 for BIGRAMSHIFT classification\n",
      "\n",
      "2018-05-25 23:01:28,014 : ***** (Probing) Transfer task : TENSE classification *****\n",
      "2018-05-25 23:01:28,540 : Loaded 100000 train - 10000 dev - 10000 test for Tense\n"
     ]
    },
    {
     "name": "stdout",
     "output_type": "stream",
     "text": [
      "INFO:tensorflow:Restoring parameters from /Users/Druv/Documents/Jupiter/ULL/Lab3/ull-practical3-embedalign/model.best.validation.aer.ckpt\n"
     ]
    },
    {
     "name": "stderr",
     "output_type": "stream",
     "text": [
      "2018-05-25 23:01:31,654 : Restoring parameters from /Users/Druv/Documents/Jupiter/ULL/Lab3/ull-practical3-embedalign/model.best.validation.aer.ckpt\n",
      "2018-05-25 23:01:32,311 : Computing embeddings for train/dev/test\n",
      "2018-05-25 23:13:17,777 : Computed embeddings\n",
      "2018-05-25 23:13:17,777 : Training sklearn-LogReg with standard validation..\n",
      "2018-05-25 23:14:01,695 : [('reg:0.25', 67.73), ('reg:0.5', 68.13), ('reg:1', 68.67), ('reg:2', 69.26), ('reg:4', 70.11), ('reg:8', 70.87)]\n",
      "2018-05-25 23:14:01,695 : Validation : best param found is reg = 8 with score             70.87\n",
      "2018-05-25 23:14:01,695 : Evaluating...\n",
      "2018-05-25 23:14:13,132 : \n",
      "Dev acc : 70.9 Test acc : 67.5 for TENSE classification\n",
      "\n",
      "2018-05-25 23:14:13,163 : ***** (Probing) Transfer task : SUBJNUMBER classification *****\n",
      "2018-05-25 23:14:13,945 : Loaded 100000 train - 10000 dev - 10000 test for SubjNumber\n"
     ]
    },
    {
     "name": "stdout",
     "output_type": "stream",
     "text": [
      "INFO:tensorflow:Restoring parameters from /Users/Druv/Documents/Jupiter/ULL/Lab3/ull-practical3-embedalign/model.best.validation.aer.ckpt\n"
     ]
    },
    {
     "name": "stderr",
     "output_type": "stream",
     "text": [
      "2018-05-25 23:14:16,742 : Restoring parameters from /Users/Druv/Documents/Jupiter/ULL/Lab3/ull-practical3-embedalign/model.best.validation.aer.ckpt\n",
      "2018-05-25 23:14:17,335 : Computing embeddings for train/dev/test\n",
      "2018-05-25 23:26:18,656 : Computed embeddings\n",
      "2018-05-25 23:26:18,656 : Training sklearn-LogReg with standard validation..\n",
      "2018-05-25 23:27:08,591 : [('reg:0.25', 63.34), ('reg:0.5', 64.5), ('reg:1', 65.86), ('reg:2', 68.07), ('reg:4', 70.2), ('reg:8', 72.28)]\n",
      "2018-05-25 23:27:08,591 : Validation : best param found is reg = 8 with score             72.28\n",
      "2018-05-25 23:27:08,591 : Evaluating...\n",
      "2018-05-25 23:27:24,232 : \n",
      "Dev acc : 72.3 Test acc : 70.8 for SUBJNUMBER classification\n",
      "\n",
      "2018-05-25 23:27:24,247 : ***** (Probing) Transfer task : OBJNUMBER classification *****\n",
      "2018-05-25 23:27:25,575 : Loaded 100000 train - 10000 dev - 10000 test for ObjNumber\n"
     ]
    },
    {
     "name": "stdout",
     "output_type": "stream",
     "text": [
      "INFO:tensorflow:Restoring parameters from /Users/Druv/Documents/Jupiter/ULL/Lab3/ull-practical3-embedalign/model.best.validation.aer.ckpt\n"
     ]
    },
    {
     "name": "stderr",
     "output_type": "stream",
     "text": [
      "2018-05-25 23:27:28,638 : Restoring parameters from /Users/Druv/Documents/Jupiter/ULL/Lab3/ull-practical3-embedalign/model.best.validation.aer.ckpt\n",
      "2018-05-25 23:27:29,231 : Computing embeddings for train/dev/test\n",
      "2018-05-25 23:40:34,949 : Computed embeddings\n",
      "2018-05-25 23:40:34,950 : Training sklearn-LogReg with standard validation..\n",
      "2018-05-25 23:41:30,793 : [('reg:0.25', 61.52), ('reg:0.5', 62.31), ('reg:1', 63.5), ('reg:2', 64.41), ('reg:4', 65.82), ('reg:8', 66.98)]\n",
      "2018-05-25 23:41:30,794 : Validation : best param found is reg = 8 with score             66.98\n",
      "2018-05-25 23:41:30,795 : Evaluating...\n",
      "2018-05-25 23:41:48,200 : \n",
      "Dev acc : 67.0 Test acc : 68.5 for OBJNUMBER classification\n",
      "\n",
      "2018-05-25 23:41:48,230 : ***** (Probing) Transfer task : ODDMANOUT classification *****\n",
      "2018-05-25 23:41:48,831 : Loaded 100000 train - 10000 dev - 10000 test for OddManOut\n"
     ]
    },
    {
     "name": "stdout",
     "output_type": "stream",
     "text": [
      "INFO:tensorflow:Restoring parameters from /Users/Druv/Documents/Jupiter/ULL/Lab3/ull-practical3-embedalign/model.best.validation.aer.ckpt\n"
     ]
    },
    {
     "name": "stderr",
     "output_type": "stream",
     "text": [
      "2018-05-25 23:41:52,015 : Restoring parameters from /Users/Druv/Documents/Jupiter/ULL/Lab3/ull-practical3-embedalign/model.best.validation.aer.ckpt\n",
      "2018-05-25 23:41:52,719 : Computing embeddings for train/dev/test\n",
      "2018-05-25 23:57:51,926 : Computed embeddings\n",
      "2018-05-25 23:57:51,926 : Training sklearn-LogReg with standard validation..\n",
      "2018-05-25 23:58:34,300 : [('reg:0.25', 49.48), ('reg:0.5', 49.3), ('reg:1', 49.56), ('reg:2', 49.6), ('reg:4', 49.53), ('reg:8', 49.57)]\n",
      "2018-05-25 23:58:34,300 : Validation : best param found is reg = 2 with score             49.6\n",
      "2018-05-25 23:58:34,300 : Evaluating...\n",
      "2018-05-25 23:58:41,362 : \n",
      "Dev acc : 49.6 Test acc : 50.2 for ODDMANOUT classification\n",
      "\n",
      "2018-05-25 23:58:41,378 : ***** (Probing) Transfer task : COORDINATIONINVERSION classification *****\n",
      "2018-05-25 23:58:42,362 : Loaded 100002 train - 10002 dev - 10002 test for CoordinationInversion\n"
     ]
    },
    {
     "name": "stdout",
     "output_type": "stream",
     "text": [
      "INFO:tensorflow:Restoring parameters from /Users/Druv/Documents/Jupiter/ULL/Lab3/ull-practical3-embedalign/model.best.validation.aer.ckpt\n"
     ]
    },
    {
     "name": "stderr",
     "output_type": "stream",
     "text": [
      "2018-05-25 23:58:45,253 : Restoring parameters from /Users/Druv/Documents/Jupiter/ULL/Lab3/ull-practical3-embedalign/model.best.validation.aer.ckpt\n",
      "2018-05-25 23:58:45,847 : Computing embeddings for train/dev/test\n",
      "2018-05-26 00:12:35,578 : Computed embeddings\n",
      "2018-05-26 00:12:35,578 : Training sklearn-LogReg with standard validation..\n",
      "2018-05-26 00:13:15,749 : [('reg:0.25', 50.2), ('reg:0.5', 50.15), ('reg:1', 50.27), ('reg:2', 50.49), ('reg:4', 51.1), ('reg:8', 51.53)]\n",
      "2018-05-26 00:13:15,765 : Validation : best param found is reg = 8 with score             51.53\n",
      "2018-05-26 00:13:15,765 : Evaluating...\n",
      "2018-05-26 00:13:26,342 : \n",
      "Dev acc : 51.5 Test acc : 51.0 for COORDINATIONINVERSION classification\n",
      "\n"
     ]
    }
   ],
   "source": [
    "# Copyright (c) 2017-present, Facebook, Inc.\n",
    "# All rights reserved.\n",
    "#\n",
    "# This source code is licensed under the license found in the\n",
    "# LICENSE file in the root directory of this source tree.\n",
    "#\n",
    "\n",
    "\n",
    "\n",
    "# Set PATHs\n",
    "# path to senteval\n",
    "#PATH_TO_SENTEVAL = '../'\n",
    "\n",
    "\n",
    "\n",
    "# import SentEval\n",
    "#sys.path.insert(0, PATH_TO_SENTEVAL)\n",
    "\n",
    "# Set params for SentEval\n",
    "# we use logistic regression (usepytorch: Fasle) and kfold 10\n",
    "# In this dictionary you can add extra information that you model needs for initialization\n",
    "# for example the path to a dictionary of indices, of hyper parameters\n",
    "# this dictionary is passed to the batched and the prepare fucntions\n",
    "params_senteval = {'task_path': '',\n",
    "                   'usepytorch': False,\n",
    "                   'kfold': 10,\n",
    "                   'ckpt_path': '',\n",
    "                   'tok_path': '',\n",
    "                   'extractor': None,\n",
    "                   'tks1': None}\n",
    "# made dictionary a dotdict\n",
    "params_senteval = dotdict(params_senteval)\n",
    "# this is the config for the NN classifier but we are going to use scikit-learn logistic regression with 10 kfold\n",
    "# usepytorch = False \n",
    "#params_senteval['classifier'] = {'nhid': 0, 'optim': 'rmsprop', 'batch_size': 128,\n",
    "#                                 'tenacity': 3, 'epoch_size': 2}\n",
    "\n",
    "\n",
    "\n",
    "def prepare(params, samples):\n",
    "    \"\"\"\n",
    "    In this example we are going to load a tensorflow model, \n",
    "    we open a dictionary with the indices of tokens and the computation graph\n",
    "    \"\"\"\n",
    "    params.extractor = EmbeddingExtractor(\n",
    "        graph_file='%s.meta'%(params.ckpt_path),\n",
    "        ckpt_path=params.ckpt_path,\n",
    "        config=None #run in cpu\n",
    "    )\n",
    "\n",
    "    # load tokenizer from training\n",
    "    params.tks1 = dill.load(open(params.tok_path, 'rb'))\n",
    "    return\n",
    "\n",
    "def batcher(params, batch):\n",
    "    \"\"\"\n",
    "    At this point batch is a python list containing sentences. Each sentence is a list of tokens (each token a string).\n",
    "    The code below will take care of converting this to unique ids that EmbedAlign can understand.\n",
    "    \n",
    "    This function should return a single vector representation per sentence in the batch.\n",
    "    In this example we use the average of word embeddings (as predicted by EmbedAlign) as a sentence representation.\n",
    "    \n",
    "    In this method you can do mini-batching or you can process sentences 1 at a time (batches of size 1).\n",
    "    We choose to do it 1 sentence at a time to avoid having to deal with masking. \n",
    "    \n",
    "    This should not be too slow, and it also saves memory.\n",
    "    \"\"\"\n",
    "    # if a sentence is empty dot is set to be the only token\n",
    "    # you can change it into NULL dependening in your model\n",
    "    batch = [sent if sent != [] else ['.'] for sent in batch]\n",
    "    embeddings = []\n",
    "    for sent in batch:\n",
    "        # Here is where dgm4nlp converts strings to unique ids respecting the vocabulary\n",
    "        # of the pre-trained EmbedAlign model\n",
    "        # from tokens ot ids position 0 is en\n",
    "        x1 = params.tks1[0].to_sequences([(' '.join(sent))])\n",
    "        \n",
    "        # extract word embeddings in context for a sentence\n",
    "        # [1, sentence_length, z_dim]\n",
    "        z_batch1 = params.extractor.get_z_embedding_batch(x_batch=x1)\n",
    "        # sentence vector is the mean of word embeddings in context\n",
    "        # [1, z_dim]\n",
    "        sent_vec = np.mean(z_batch1, axis=1)\n",
    "        # check if there is any NaN in vector (they appear sometimes when there's padding)\n",
    "        if np.isnan(sent_vec.sum()):\n",
    "            sent_vec = np.nan_to_num(sent_vec)        \n",
    "        embeddings.append(sent_vec)\n",
    "    embeddings = np.vstack(embeddings)\n",
    "    return embeddings\n",
    "\n",
    "\n",
    "# Set up logger\n",
    "logging.basicConfig(format='%(asctime)s : %(message)s', level=logging.DEBUG)\n",
    "\n",
    "if __name__ == \"__main__\":\n",
    "    # define paths\n",
    "    # path to senteval data\n",
    "    # note senteval adds downstream into the path\n",
    "    params_senteval.task_path = '/Users/Druv/Documents/Jupiter/ULL/Lab3/SentEval/data'\n",
    "    # path to computation graph\n",
    "    # we use best model on validation AER\n",
    "    # TODO: you have to point to valid paths! Use the pre-trained model linked from the top of this notebook.\n",
    "    params_senteval.ckpt_path = '/Users/Druv/Documents/Jupiter/ULL/Lab3/ull-practical3-embedalign/model.best.validation.aer.ckpt'\n",
    "    # path to tokenizer with ids of trained Europarl data\n",
    "    # out dictionary id depends on dill for pickle\n",
    "    params_senteval.tok_path = '/Users/Druv/Documents/Jupiter/ULL/Lab3/ull-practical3-embedalign/tokenizer.pickle'\n",
    "    # we use 10 fold cross validation\n",
    "    params_senteval.kfold = 10\n",
    "    se = senteval.engine.SE(params_senteval, batcher, prepare)\n",
    "    \n",
    "    # here you define the NLP taks that your embedding model is going to be evaluated\n",
    "    # in (https://arxiv.org/abs/1802.05883) we use the following :\n",
    "    # SICKRelatedness (Sick-R) needs torch cuda to work (even when using logistic regression), \n",
    "    # but STS14 (semantic textual similarity) is a similar type of semantic task\n",
    "    transfer_tasks = ['TopConstituents','BigramShift', 'Tense',\n",
    "                         'SubjNumber', 'ObjNumber', 'OddManOut', 'CoordinationInversion']\n",
    "                      #['Length', 'WordContent', 'Depth']\n",
    "                      #['MR', 'CR', 'MPQA', 'SUBJ', 'SST2', 'TREC', 'MRPC', 'SICKEntailment', 'STS14'] \n",
    "                      # ['CR', 'MR', 'MPQA', 'SUBJ', 'SST2', 'SST5', 'TREC', 'MRPC', 'SNLI',\n",
    "#                         'SICKEntailment', 'SICKRelatedness', 'STSBenchmark', 'ImageCaptionRetrieval',\n",
    "#                         'STS12', 'STS13', 'STS14', 'STS15', 'STS16',\n",
    "#                         'Length', 'WordContent', 'Depth', 'TopConstituents','BigramShift', 'Tense',\n",
    "#                         'SubjNumber', 'ObjNumber', 'OddManOut', 'CoordinationInversion']\n",
    "    # senteval prints the results and returns a dictionary with the scores\n",
    "    results = se.eval(transfer_tasks)\n",
    "    "
   ]
  },
  {
   "cell_type": "code",
   "execution_count": 17,
   "metadata": {},
   "outputs": [
    {
     "name": "stdout",
     "output_type": "stream",
     "text": [
      "{'SubjNumber': {'ndev': 10000, 'devacc': 72.28, 'ntest': 10000, 'acc': 70.78}, 'CoordinationInversion': {'ndev': 10002, 'devacc': 51.53, 'ntest': 10002, 'acc': 51.05}, 'BigramShift': {'ndev': 10000, 'devacc': 50.85, 'ntest': 10000, 'acc': 51.13}, 'ObjNumber': {'ndev': 10000, 'devacc': 66.98, 'ntest': 10000, 'acc': 68.45}, 'TopConstituents': {'ndev': 10000, 'devacc': 32.7, 'ntest': 10000, 'acc': 32.64}, 'OddManOut': {'ndev': 10000, 'devacc': 49.6, 'ntest': 10000, 'acc': 50.16}, 'Tense': {'ndev': 10000, 'devacc': 70.87, 'ntest': 10000, 'acc': 67.46}}\n"
     ]
    }
   ],
   "source": [
    "import pickle\n",
    "   \n",
    "with open('Embedalign_3.pkl','wb') as f:\n",
    "    pickle.dump(results, f)\n",
    "print(results)"
   ]
  },
  {
   "cell_type": "code",
   "execution_count": 16,
   "metadata": {},
   "outputs": [
    {
     "data": {
      "application/javascript": [
       "IPython.notebook.set_autosave_interval(10000)"
      ]
     },
     "metadata": {},
     "output_type": "display_data"
    },
    {
     "name": "stdout",
     "output_type": "stream",
     "text": [
      "Autosaving every 10 seconds\n"
     ]
    }
   ],
   "source": [
    "%autosave 10"
   ]
  }
 ],
 "metadata": {
  "kernelspec": {
   "display_name": "Python 3",
   "language": "python",
   "name": "python3"
  },
  "language_info": {
   "codemirror_mode": {
    "name": "ipython",
    "version": 3
   },
   "file_extension": ".py",
   "mimetype": "text/x-python",
   "name": "python",
   "nbconvert_exporter": "python",
   "pygments_lexer": "ipython3",
   "version": "3.5.5"
  }
 },
 "nbformat": 4,
 "nbformat_minor": 2
}
